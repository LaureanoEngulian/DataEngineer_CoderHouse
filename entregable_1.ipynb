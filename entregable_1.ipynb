{
 "cells": [
  {
   "cell_type": "code",
   "execution_count": 1,
   "metadata": {},
   "outputs": [
    {
     "name": "stdout",
     "output_type": "stream",
     "text": [
      "<Response [200]>\n"
     ]
    }
   ],
   "source": [
    "import os\n",
    "import requests\n",
    "import pandas as pd\n",
    "import redshift_connector\n",
    "from dotenv import dotenv_values\n",
    "\n",
    "# Configurar pandas para mostrar todas las filas y columnas\n",
    "pd.set_option('display.max_rows', None)\n",
    "pd.set_option('display.max_columns', None)\n",
    "\n",
    "# Configurar variables de entorno\n",
    "env_vars = dotenv_values('.env')\n",
    "\n",
    "# Test PokeAPI\n",
    "response = requests.get(\"https://pokeapi.co/api/v2/pokemon/1\")\n",
    "print(response)"
   ]
  },
  {
   "cell_type": "code",
   "execution_count": 2,
   "metadata": {},
   "outputs": [
    {
     "data": {
      "text/plain": [
       "dict_keys(['abilities', 'base_experience', 'forms', 'game_indices', 'height', 'held_items', 'id', 'is_default', 'location_area_encounters', 'moves', 'name', 'order', 'past_types', 'species', 'sprites', 'stats', 'types', 'weight'])"
      ]
     },
     "execution_count": 2,
     "metadata": {},
     "output_type": "execute_result"
    }
   ],
   "source": [
    "data = response.json()\n",
    "data.keys()"
   ]
  },
  {
   "cell_type": "code",
   "execution_count": 3,
   "metadata": {},
   "outputs": [
    {
     "data": {
      "text/html": [
       "<div>\n",
       "<style scoped>\n",
       "    .dataframe tbody tr th:only-of-type {\n",
       "        vertical-align: middle;\n",
       "    }\n",
       "\n",
       "    .dataframe tbody tr th {\n",
       "        vertical-align: top;\n",
       "    }\n",
       "\n",
       "    .dataframe thead th {\n",
       "        text-align: right;\n",
       "    }\n",
       "</style>\n",
       "<table border=\"1\" class=\"dataframe\">\n",
       "  <thead>\n",
       "    <tr style=\"text-align: right;\">\n",
       "      <th></th>\n",
       "      <th>id</th>\n",
       "      <th>name</th>\n",
       "      <th>height</th>\n",
       "      <th>weight</th>\n",
       "      <th>main_type</th>\n",
       "      <th>hp</th>\n",
       "      <th>attack</th>\n",
       "      <th>defense</th>\n",
       "      <th>special_attack</th>\n",
       "      <th>special_defense</th>\n",
       "      <th>speed</th>\n",
       "    </tr>\n",
       "  </thead>\n",
       "  <tbody>\n",
       "    <tr>\n",
       "      <th>0</th>\n",
       "      <td>1</td>\n",
       "      <td>bulbasaur</td>\n",
       "      <td>7</td>\n",
       "      <td>69</td>\n",
       "      <td>grass</td>\n",
       "      <td>45</td>\n",
       "      <td>49</td>\n",
       "      <td>49</td>\n",
       "      <td>65</td>\n",
       "      <td>65</td>\n",
       "      <td>45</td>\n",
       "    </tr>\n",
       "    <tr>\n",
       "      <th>1</th>\n",
       "      <td>2</td>\n",
       "      <td>ivysaur</td>\n",
       "      <td>10</td>\n",
       "      <td>130</td>\n",
       "      <td>grass</td>\n",
       "      <td>60</td>\n",
       "      <td>62</td>\n",
       "      <td>63</td>\n",
       "      <td>80</td>\n",
       "      <td>80</td>\n",
       "      <td>60</td>\n",
       "    </tr>\n",
       "    <tr>\n",
       "      <th>2</th>\n",
       "      <td>3</td>\n",
       "      <td>venusaur</td>\n",
       "      <td>20</td>\n",
       "      <td>1000</td>\n",
       "      <td>grass</td>\n",
       "      <td>80</td>\n",
       "      <td>82</td>\n",
       "      <td>83</td>\n",
       "      <td>100</td>\n",
       "      <td>100</td>\n",
       "      <td>80</td>\n",
       "    </tr>\n",
       "    <tr>\n",
       "      <th>3</th>\n",
       "      <td>4</td>\n",
       "      <td>charmander</td>\n",
       "      <td>6</td>\n",
       "      <td>85</td>\n",
       "      <td>fire</td>\n",
       "      <td>39</td>\n",
       "      <td>52</td>\n",
       "      <td>43</td>\n",
       "      <td>60</td>\n",
       "      <td>50</td>\n",
       "      <td>65</td>\n",
       "    </tr>\n",
       "    <tr>\n",
       "      <th>4</th>\n",
       "      <td>5</td>\n",
       "      <td>charmeleon</td>\n",
       "      <td>11</td>\n",
       "      <td>190</td>\n",
       "      <td>fire</td>\n",
       "      <td>58</td>\n",
       "      <td>64</td>\n",
       "      <td>58</td>\n",
       "      <td>80</td>\n",
       "      <td>65</td>\n",
       "      <td>80</td>\n",
       "    </tr>\n",
       "  </tbody>\n",
       "</table>\n",
       "</div>"
      ],
      "text/plain": [
       "   id        name  height  weight main_type  hp  attack  defense  \\\n",
       "0   1   bulbasaur       7      69     grass  45      49       49   \n",
       "1   2     ivysaur      10     130     grass  60      62       63   \n",
       "2   3    venusaur      20    1000     grass  80      82       83   \n",
       "3   4  charmander       6      85      fire  39      52       43   \n",
       "4   5  charmeleon      11     190      fire  58      64       58   \n",
       "\n",
       "   special_attack  special_defense  speed  \n",
       "0              65               65     45  \n",
       "1              80               80     60  \n",
       "2             100              100     80  \n",
       "3              60               50     65  \n",
       "4              80               65     80  "
      ]
     },
     "execution_count": 3,
     "metadata": {},
     "output_type": "execute_result"
    }
   ],
   "source": [
    "pokemon_df = pd.DataFrame()\n",
    "\n",
    "for i in range(151):\n",
    "    response = requests.get(f\"https://pokeapi.co/api/v2/pokemon/{i+1}\")\n",
    "    data = response.json()\n",
    "\n",
    "    row_df = pd.DataFrame()  # (index=[0])\n",
    "\n",
    "    row_df.loc[0,'id'] = data['id'] \n",
    "    row_df.loc[0,'name'] = data['name']\n",
    "    row_df.loc[0,'height'] = data['height']\n",
    "    row_df.loc[0,'weight'] = data['weight']\n",
    "    row_df.loc[0,'main_type'] = data['types'][0]['type']['name']\n",
    "    row_df.loc[0,'hp'] = data['stats'][0]['base_stat']\n",
    "    row_df.loc[0,'attack'] = data['stats'][1]['base_stat']\n",
    "    row_df.loc[0,'defense'] = data['stats'][2]['base_stat']\n",
    "    row_df.loc[0,'special_attack'] = data['stats'][3]['base_stat']\n",
    "    row_df.loc[0,'special_defense'] = data['stats'][4]['base_stat']\n",
    "    row_df.loc[0,'speed'] = data['stats'][5]['base_stat']\n",
    "            \n",
    "    \n",
    "    pokemon_df = pd.concat([pokemon_df, row_df], ignore_index=True)\n",
    "\n",
    "pokemon_df = pokemon_df.astype({'id':'int', 'name':'str', 'height':'int', 'weight':'int', 'main_type':'str', 'hp':'int', \n",
    "                                'attack':'int', 'defense':'int', 'special_attack':'int', 'special_defense':'int', 'speed':'int'}, errors='raise')\n",
    "\n",
    "pokemon_df.head()\n"
   ]
  },
  {
   "cell_type": "code",
   "execution_count": 5,
   "metadata": {},
   "outputs": [
    {
     "data": {
      "text/plain": [
       "'data-engineer-cluster.cyhh5bfevlmn.us-east-1.redshift.amazonaws.com'"
      ]
     },
     "execution_count": 5,
     "metadata": {},
     "output_type": "execute_result"
    }
   ],
   "source": [
    "env_vars['HOST']"
   ]
  },
  {
   "cell_type": "code",
   "execution_count": 7,
   "metadata": {},
   "outputs": [],
   "source": [
    "conn = redshift_connector.connect(\n",
    "    host=env_vars['HOST'],\n",
    "    port=int(env_vars['PORT']),\n",
    "    database=env_vars['DATABASE'],\n",
    "    user=env_vars['USER'],\n",
    "    password=env_vars['PASSWORD']\n",
    " )\n",
    "\n",
    "# Create a Cursor object\n",
    "cursor = conn.cursor()\n"
   ]
  },
  {
   "cell_type": "code",
   "execution_count": null,
   "metadata": {},
   "outputs": [],
   "source": [
    "# Eliminate the table if exists\n",
    "cleaner_query = '''DROP TABLE IF EXISTS laureanoengulian_coderhouse.pokemon_first_gen'''\n",
    "cursor.execute(cleaner_query)\n",
    "conn.commit()\n",
    "\n",
    "# Create table if not exists\n",
    "create_table_query = '''CREATE TABLE IF NOT EXISTS laureanoengulian_coderhouse.pokemon_first_gen(\n",
    "                        id integer not null,\n",
    "                        name varchar(150) not null,\n",
    "                        height integer not null,\n",
    "                        weight integer not null,\n",
    "                        main_type varchar(150) not null,\n",
    "                        hp integer not null,\n",
    "                        attack integer not null,\n",
    "                        defense integer not null,\n",
    "                        special_attack integer not null,\n",
    "                        special_defense integer not null,\n",
    "                        speed integer not null,\n",
    "                        primary key(id))\n",
    "                     '''\n",
    "cursor.execute(create_table_query)\n",
    "conn.commit()\n",
    "\n",
    "# Load the df in Redshift\n",
    "cursor.write_dataframe(df=pokemon_df, table='pokemon_first_gen')\n",
    "conn.commit()"
   ]
  }
 ],
 "metadata": {
  "kernelspec": {
   "display_name": "Python 3",
   "language": "python",
   "name": "python3"
  },
  "language_info": {
   "codemirror_mode": {
    "name": "ipython",
    "version": 3
   },
   "file_extension": ".py",
   "mimetype": "text/x-python",
   "name": "python",
   "nbconvert_exporter": "python",
   "pygments_lexer": "ipython3",
   "version": "3.10.11"
  },
  "orig_nbformat": 4
 },
 "nbformat": 4,
 "nbformat_minor": 2
}
